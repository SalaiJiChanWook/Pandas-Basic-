{
 "cells": [
  {
   "cell_type": "markdown",
   "id": "3a2ba48e",
   "metadata": {},
   "source": [
    "# exercise 1"
   ]
  },
  {
   "cell_type": "markdown",
   "id": "28f11a14",
   "metadata": {},
   "source": [
    "How to import pandas and check the version?\n"
   ]
  },
  {
   "cell_type": "markdown",
   "id": "6256efe6",
   "metadata": {},
   "source": [
    "# exercise 2"
   ]
  },
  {
   "cell_type": "markdown",
   "id": "de8ca19e",
   "metadata": {},
   "source": [
    " How to create a series from a list and dict?\n",
    " \n",
    " Input : \n",
    " ```\n",
    "import numpy as np\n",
    "mylist = list('abcedfghijklmnopqrstuvwxyz')\n",
    "myarr = range(26)\n",
    "mydict = dict(zip(mylist, myarr))\n",
    " ```"
   ]
  },
  {
   "cell_type": "markdown",
   "id": "fcdd37bf",
   "metadata": {},
   "source": [
    "# exercise 3\n",
    "\n",
    "How to get frequency counts of unique items of a series?\n",
    "\n",
    "Input :\n",
    "\n",
    "series = ['d', 'b', 'g', 'a', 'g', 'h', 'f', 'c', 'f', 'h', 'd', 'a', 'f', 'b', 'g', 'a', 'b', 'g', 'h', 'e', 'c', 'a', 'g', 'a', 'e', 'b', 'g', 'b', 'b', 'f']"
   ]
  },
  {
   "cell_type": "markdown",
   "id": "502924d0",
   "metadata": {},
   "source": [
    "# exercise 4\n",
    "\n",
    "How to stack two series vertically and horizontally ?\n",
    "\n",
    "```\n",
    "ser1 = pd.Series(range(5))\n",
    "ser2 = pd.Series(list('abcde'))\n"
   ]
  },
  {
   "cell_type": "markdown",
   "id": "aaa1791c",
   "metadata": {},
   "source": [
    "# read netflix dataset from resources "
   ]
  },
  {
   "cell_type": "markdown",
   "id": "61bafb91",
   "metadata": {},
   "source": [
    "# get the info of the datset"
   ]
  },
  {
   "cell_type": "markdown",
   "id": "28ded2e9",
   "metadata": {},
   "source": [
    "# get 10 sample rows()"
   ]
  },
  {
   "cell_type": "markdown",
   "id": "a4df608e",
   "metadata": {},
   "source": [
    "# which country produce the most movies?"
   ]
  },
  {
   "cell_type": "markdown",
   "id": "5b587214",
   "metadata": {},
   "source": [
    "# Get columns named 'type', 'title','director'"
   ]
  },
  {
   "cell_type": "markdown",
   "id": "5bc303ea",
   "metadata": {},
   "source": [
    "# Get the movies with rating 'PG-13'"
   ]
  },
  {
   "cell_type": "markdown",
   "id": "986ff02d",
   "metadata": {},
   "source": [
    "# Get the movies that have 90 mins duration"
   ]
  },
  {
   "cell_type": "markdown",
   "id": "debd6708",
   "metadata": {
    "ExecuteTime": {
     "end_time": "2022-07-23T12:44:35.715607Z",
     "start_time": "2022-07-23T12:44:35.711162Z"
    }
   },
   "source": [
    "# get the movies which are release after year 2010"
   ]
  },
  {
   "cell_type": "markdown",
   "id": "7856beb6",
   "metadata": {},
   "source": [
    "# get the description length using pandas apply"
   ]
  },
  {
   "cell_type": "markdown",
   "id": "a7265519",
   "metadata": {},
   "source": [
    "# exercise 15\n",
    "\n",
    "How to convert the first character of each element in a series to uppercase using lambda?\n",
    "\n",
    "Input : \n",
    "\n",
    "```\n",
    "ser = pd.Series(['how', 'to', 'kick', 'ass?'])\n",
    "```"
   ]
  },
  {
   "cell_type": "markdown",
   "id": "1745e411",
   "metadata": {},
   "source": [
    "# exercise 15\n",
    "\n",
    "How to check if a dataframe has any missing values?\n",
    "\n",
    "Check if df has any missing values.\n",
    "\n",
    "Input:\n",
    "\n",
    "```\n",
    "df = pd.read_csv('https://raw.githubusercontent.com/selva86/datasets/master/Cars93_miss.csv')\n",
    "\n",
    "```"
   ]
  },
  {
   "cell_type": "code",
   "execution_count": null,
   "id": "c6b6361f",
   "metadata": {},
   "outputs": [],
   "source": []
  }
 ],
 "metadata": {
  "kernelspec": {
   "display_name": "Created first_env",
   "language": "python",
   "name": "first_env"
  },
  "language_info": {
   "codemirror_mode": {
    "name": "ipython",
    "version": 3
   },
   "file_extension": ".py",
   "mimetype": "text/x-python",
   "name": "python",
   "nbconvert_exporter": "python",
   "pygments_lexer": "ipython3",
   "version": "3.11.0"
  },
  "toc": {
   "base_numbering": 1,
   "nav_menu": {},
   "number_sections": true,
   "sideBar": true,
   "skip_h1_title": false,
   "title_cell": "Table of Contents",
   "title_sidebar": "Contents",
   "toc_cell": false,
   "toc_position": {
    "height": "calc(100% - 180px)",
    "left": "10px",
    "top": "150px",
    "width": "290.2px"
   },
   "toc_section_display": true,
   "toc_window_display": true
  },
  "varInspector": {
   "cols": {
    "lenName": 16,
    "lenType": 16,
    "lenVar": 40
   },
   "kernels_config": {
    "python": {
     "delete_cmd_postfix": "",
     "delete_cmd_prefix": "del ",
     "library": "var_list.py",
     "varRefreshCmd": "print(var_dic_list())"
    },
    "r": {
     "delete_cmd_postfix": ") ",
     "delete_cmd_prefix": "rm(",
     "library": "var_list.r",
     "varRefreshCmd": "cat(var_dic_list()) "
    }
   },
   "types_to_exclude": [
    "module",
    "function",
    "builtin_function_or_method",
    "instance",
    "_Feature"
   ],
   "window_display": false
  }
 },
 "nbformat": 4,
 "nbformat_minor": 5
}
